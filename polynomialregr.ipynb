{
  "nbformat": 4,
  "nbformat_minor": 0,
  "metadata": {
    "colab": {
      "name": "polynomialregr.ipynb",
      "version": "0.3.2",
      "provenance": [],
      "collapsed_sections": [],
      "include_colab_link": true
    },
    "kernelspec": {
      "name": "python3",
      "display_name": "Python 3"
    }
  },
  "cells": [
    {
      "cell_type": "markdown",
      "metadata": {
        "id": "view-in-github",
        "colab_type": "text"
      },
      "source": [
        "<a href=\"https://colab.research.google.com/github/Amanpandey1998/AIrepofile/blob/master/polynomialregr.ipynb\" target=\"_parent\"><img src=\"https://colab.research.google.com/assets/colab-badge.svg\" alt=\"Open In Colab\"/></a>"
      ]
    },
    {
      "cell_type": "code",
      "metadata": {
        "id": "nsNnRqfbDtI4",
        "colab_type": "code",
        "colab": {}
      },
      "source": [
        "import pandas as pd\n",
        "import matplotlib.pyplot as plt"
      ],
      "execution_count": 0,
      "outputs": []
    },
    {
      "cell_type": "code",
      "metadata": {
        "id": "Tb1249acD6Dy",
        "colab_type": "code",
        "colab": {}
      },
      "source": [
        "#loading data\n",
        "df=pd.read_csv('http://13.234.66.67/summer19/datasets/salary.csv')"
      ],
      "execution_count": 0,
      "outputs": []
    },
    {
      "cell_type": "code",
      "metadata": {
        "id": "JsR79KF6EKVp",
        "colab_type": "code",
        "colab": {}
      },
      "source": [
        "#exp\n",
        "exp=df.iloc[:,0:1].values"
      ],
      "execution_count": 0,
      "outputs": []
    },
    {
      "cell_type": "code",
      "metadata": {
        "id": "Z1BJjP6hETUi",
        "colab_type": "code",
        "colab": {}
      },
      "source": [
        "#sal\n",
        "sal=df.iloc[:,1:].values"
      ],
      "execution_count": 0,
      "outputs": []
    },
    {
      "cell_type": "code",
      "metadata": {
        "id": "CaKAtjM3EcaJ",
        "colab_type": "code",
        "colab": {}
      },
      "source": [
        "#call linear model just for compare\n",
        "from sklearn.linear_model import LinearRegression\n",
        "regr1=LinearRegression()"
      ],
      "execution_count": 0,
      "outputs": []
    },
    {
      "cell_type": "code",
      "metadata": {
        "id": "QWtWmPI8EwGd",
        "colab_type": "code",
        "colab": {}
      },
      "source": [
        "#to transfer data we can call poly transform method\n",
        "from sklearn.preprocessing import PolynomialFeatures"
      ],
      "execution_count": 0,
      "outputs": []
    },
    {
      "cell_type": "code",
      "metadata": {
        "id": "gqNZG5t4FCoJ",
        "colab_type": "code",
        "colab": {}
      },
      "source": [
        "#experience transform\n",
        "poly=PolynomialFeatures(degree=15)"
      ],
      "execution_count": 0,
      "outputs": []
    },
    {
      "cell_type": "code",
      "metadata": {
        "id": "opzkt0CGFllx",
        "colab_type": "code",
        "colab": {}
      },
      "source": [
        "#exp fit\n",
        "newexp=poly.fit_transform(exp)"
      ],
      "execution_count": 0,
      "outputs": []
    },
    {
      "cell_type": "code",
      "metadata": {
        "id": "DgNmDPcMFt15",
        "colab_type": "code",
        "colab": {}
      },
      "source": [
        "#apply linear regression\n",
        "trained1=regr1.fit(exp,sal)"
      ],
      "execution_count": 0,
      "outputs": []
    },
    {
      "cell_type": "code",
      "metadata": {
        "id": "byvuhEGtGBDx",
        "colab_type": "code",
        "outputId": "16d8e2b3-d3ae-4f5b-bc6c-98872a461a40",
        "colab": {
          "base_uri": "https://localhost:8080/",
          "height": 283
        }
      },
      "source": [
        "#now creating linear model again\n",
        "plt.xlabel(\"exp\")\n",
        "plt.ylabel(\"sal\")\n",
        "plt.scatter(exp,sal,label=\"actual sal\")\n",
        "plt.plot(exp,trained1.predict(exp),label=\"linear model predict sal\")\n",
        "plt.legend()\n",
        "plt.show()"
      ],
      "execution_count": 0,
      "outputs": [
        {
          "output_type": "display_data",
          "data": {
            "image/png": "[encoded data removed]",
            "text/plain": [
              "<Figure size 432x288 with 1 Axes>"
            ]
          },
          "metadata": {
            "tags": []
          }
        }
      ]
    },
    {
      "cell_type": "code",
      "metadata": {
        "id": "9NqQMYqlGp_1",
        "colab_type": "code",
        "colab": {}
      },
      "source": [
        "\n",
        "#apply new exp data in model\n",
        "regr2=LinearRegression()"
      ],
      "execution_count": 0,
      "outputs": []
    },
    {
      "cell_type": "code",
      "metadata": {
        "id": "W00auHwOHBa5",
        "colab_type": "code",
        "colab": {}
      },
      "source": [
        "\n",
        "#new exp data apply\n",
        "trained2=regr2.fit(newexp,sal)"
      ],
      "execution_count": 0,
      "outputs": []
    },
    {
      "cell_type": "code",
      "metadata": {
        "id": "GrGsDnuuHN2x",
        "colab_type": "code",
        "outputId": "fb0977d9-a623-46af-fd6b-915d154eabbd",
        "colab": {
          "base_uri": "https://localhost:8080/",
          "height": 283
        }
      },
      "source": [
        "\n",
        "\n",
        "#now creating linear model again\n",
        "plt.xlabel(\"exp\")\n",
        "plt.ylabel(\"sal\")\n",
        "plt.scatter(exp,sal,label=\"actual sal\")\n",
        "plt.plot(exp,trained2.predict(newexp),label=\"new model\")\n",
        "plt.legend()\n",
        "plt.show()"
      ],
      "execution_count": 0,
      "outputs": [
        {
          "output_type": "display_data",
          "data": {
            "image/png": "[encoded data removed]",
            "text/plain": [
              "<Figure size 432x288 with 1 Axes>"
            ]
          },
          "metadata": {
            "tags": []
          }
        }
      ]
    },
    {
      "cell_type": "code",
      "metadata": {
        "id": "7E5_QH1HIEbO",
        "colab_type": "code",
        "colab": {}
      },
      "source": [
        ""
      ],
      "execution_count": 0,
      "outputs": []
    }
  ]
}