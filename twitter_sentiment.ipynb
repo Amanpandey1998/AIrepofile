{
  "nbformat": 4,
  "nbformat_minor": 0,
  "metadata": {
    "colab": {
      "name": "twitter_sentiment.ipynb",
      "version": "0.3.2",
      "provenance": [],
      "collapsed_sections": [],
      "include_colab_link": true
    },
    "kernelspec": {
      "name": "python3",
      "display_name": "Python 3"
    }
  },
  "cells": [
    {
      "cell_type": "markdown",
      "metadata": {
        "id": "view-in-github",
        "colab_type": "text"
      },
      "source": [
        "<a href=\"https://colab.research.google.com/github/Amanpandey1998/AIrepofile/blob/master/twitter_sentiment.ipynb\" target=\"_parent\"><img src=\"https://colab.research.google.com/assets/colab-badge.svg\" alt=\"Open In Colab\"/></a>"
      ]
    },
    {
      "cell_type": "code",
      "metadata": {
        "id": "-eMtk3bMKTX6",
        "colab_type": "code",
        "colab": {}
      },
      "source": [
        "# sudo pip3 install tweepy\n",
        "import tweepy\n",
        "import matplotlib.pyplot as plt\n",
        "import time\n",
        "from textblob import TextBlob\n"
      ],
      "execution_count": 0,
      "outputs": []
    },
    {
      "cell_type": "code",
      "metadata": {
        "id": "7Ctq2NlxK6F6",
        "colab_type": "code",
        "colab": {}
      },
      "source": [
        "#define all four authencation keys to access twitter API\n",
        "#to connect as OAth handler or jump server/reverse proxy server\n",
        "consumer_key=''\n",
        "consumer_sec=''\n",
        "\n",
        "# from proxy server we need to connect to web server of twitter\n",
        "access_token=''\n",
        "access_sec=''\n"
      ],
      "execution_count": 0,
      "outputs": []
    },
    {
      "cell_type": "code",
      "metadata": {
        "id": "0rEj2l1mOcGK",
        "colab_type": "code",
        "colab": {}
      },
      "source": [
        "#tweepy explore\n",
        "#connecting to jump server of twitter\n",
        "dir(tweepy)\n",
        "auth=tweepy.OAuthHandler(consumer_key,consumer_sec)"
      ],
      "execution_count": 0,
      "outputs": []
    },
    {
      "cell_type": "code",
      "metadata": {
        "id": "Kzp1qB0wOiFm",
        "colab_type": "code",
        "colab": {}
      },
      "source": [
        "#now we can connect from jump server to web server of twitter\n",
        "auth.set_access_token(access_token,access_sec)"
      ],
      "execution_count": 0,
      "outputs": []
    },
    {
      "cell_type": "code",
      "metadata": {
        "id": "6_EoZHugPPqm",
        "colab_type": "code",
        "colab": {}
      },
      "source": [
        "#now we can connect to API storage server of twitter\n",
        "api_connect=tweepy.API(auth)"
      ],
      "execution_count": 0,
      "outputs": []
    },
    {
      "cell_type": "code",
      "metadata": {
        "id": "-m7-hNHtPrsy",
        "colab_type": "code",
        "colab": {
          "base_uri": "https://localhost:8080/",
          "height": 128
        },
        "outputId": "97c79f52-e65b-43d3-f19d-7d639b5854e0"
      },
      "source": [
        "pos=0\n",
        "neg=0\n",
        "neu=0\n",
        "#now you can search any topic on twitter\n",
        "tweet_data=api_connect.search('modi',count=10)\n",
        "#printing line by line\n",
        "for tweet in tweet_data:\n",
        " # print(tweet)\n",
        "  analysis=Textblob(tweet.text) # here it will nlp\n",
        "  print(analysis.sentiment)\n",
        "  #now checking polarity only\n",
        "  if analysis.sentiment.polarity > 0:\n",
        "    print('positive')\n",
        "    pos=pos+1\n",
        "    elif analysis.sentiment.polarity ==0:\n",
        "      print('Neutral')\n",
        "      neu=neu+1\n",
        "    else:\n",
        "      print('negative')\n",
        "      neg=neg+1\n",
        "#plotting graphs\n",
        "plt.xlabel('tags')\n",
        "plt.ylabel('label')\n",
        "plt.bar(['pos','neg'],[pos,neg,neu])\n",
        "plt.pie([pos,neg,neu],labels=['pos','neg','neu'],autopct=%1.1f%%)\n",
        "plt.show()\n",
        "\n",
        "    "
      ],
      "execution_count": 15,
      "outputs": [
        {
          "output_type": "error",
          "ename": "SyntaxError",
          "evalue": "ignored",
          "traceback": [
            "\u001b[0;36m  File \u001b[0;32m\"<ipython-input-15-ce47ce9c9879>\"\u001b[0;36m, line \u001b[0;32m12\u001b[0m\n\u001b[0;31m    if analysis.sentiment.polarity>0:\u001b[0m\n\u001b[0m                                     ^\u001b[0m\n\u001b[0;31mSyntaxError\u001b[0m\u001b[0;31m:\u001b[0m unexpected EOF while parsing\n"
          ]
        }
      ]
    },
    {
      "cell_type": "code",
      "metadata": {
        "id": "fHp8BrJxSWI_",
        "colab_type": "code",
        "colab": {}
      },
      "source": [
        ""
      ],
      "execution_count": 0,
      "outputs": []
    }
  ]
}