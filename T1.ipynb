{
  "nbformat": 4,
  "nbformat_minor": 0,
  "metadata": {
    "colab": {
      "name": "T1.ipynb",
      "version": "0.3.2",
      "provenance": [],
      "include_colab_link": true
    },
    "kernelspec": {
      "name": "python3",
      "display_name": "Python 3"
    }
  },
  "cells": [
    {
      "cell_type": "markdown",
      "metadata": {
        "id": "view-in-github",
        "colab_type": "text"
      },
      "source": [
        "<a href=\"https://colab.research.google.com/github/Amanpandey1998/AIrepofile/blob/master/T1.ipynb\" target=\"_parent\"><img src=\"https://colab.research.google.com/assets/colab-badge.svg\" alt=\"Open In Colab\"/></a>"
      ]
    },
    {
      "cell_type": "code",
      "metadata": {
        "id": "Nd7mBfBOQVIn",
        "colab_type": "code",
        "colab": {}
      },
      "source": [
        "import numpy as np\n",
        "import random\n",
        "m=int(input())                #To take integer input from user\n",
        "n=int(input())\n",
        "y=np.random.random((m,n))     #Inserting random elements in 2d array\n",
        "np.savetxt('a1.txt',y)        #Saving the array to a file\n",
        "np.loadtxt('a1.txt')"
      ],
      "execution_count": 0,
      "outputs": []
    }
  ]
}