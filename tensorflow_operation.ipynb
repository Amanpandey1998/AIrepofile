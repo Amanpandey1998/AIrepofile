{
  "nbformat": 4,
  "nbformat_minor": 0,
  "metadata": {
    "colab": {
      "name": "tensorflow_operation.ipynb",
      "version": "0.3.2",
      "provenance": [],
      "collapsed_sections": [],
      "include_colab_link": true
    },
    "kernelspec": {
      "name": "python3",
      "display_name": "Python 3"
    }
  },
  "cells": [
    {
      "cell_type": "markdown",
      "metadata": {
        "id": "view-in-github",
        "colab_type": "text"
      },
      "source": [
        "<a href=\"https://colab.research.google.com/github/Amanpandey1998/AIrepofile/blob/master/tensorflow_operation.ipynb\" target=\"_parent\"><img src=\"https://colab.research.google.com/assets/colab-badge.svg\" alt=\"Open In Colab\"/></a>"
      ]
    },
    {
      "cell_type": "code",
      "metadata": {
        "id": "BnAH1ovkkNia",
        "colab_type": "code",
        "colab": {}
      },
      "source": [
        "import tensorflow as tf"
      ],
      "execution_count": 0,
      "outputs": []
    },
    {
      "cell_type": "code",
      "metadata": {
        "id": "tLjHY_2KkQZo",
        "colab_type": "code",
        "colab": {}
      },
      "source": [
        "# to assign fix vcalue in tensorflow we need to define constant\n",
        "x=tf.constant(30)"
      ],
      "execution_count": 0,
      "outputs": []
    },
    {
      "cell_type": "code",
      "metadata": {
        "id": "8Mxlt3BOkg4G",
        "colab_type": "code",
        "colab": {}
      },
      "source": [
        "x1=tf.constant([3,5,66,88])  #multi value constant"
      ],
      "execution_count": 0,
      "outputs": []
    },
    {
      "cell_type": "code",
      "metadata": {
        "id": "mcmSQLGJnChb",
        "colab_type": "code",
        "colab": {
          "base_uri": "https://localhost:8080/",
          "height": 34
        },
        "outputId": "7c72adc0-1306-47e7-ea91-14c3731ff895"
      },
      "source": [
        "#type of x\n",
        "type(x)"
      ],
      "execution_count": 7,
      "outputs": [
        {
          "output_type": "execute_result",
          "data": {
            "text/plain": [
              "tensorflow.python.framework.ops.Tensor"
            ]
          },
          "metadata": {
            "tags": []
          },
          "execution_count": 7
        }
      ]
    },
    {
      "cell_type": "code",
      "metadata": {
        "id": "4-oHO-iBnJ_M",
        "colab_type": "code",
        "colab": {}
      },
      "source": [
        "# y\n",
        "y=tf.constant(20)"
      ],
      "execution_count": 0,
      "outputs": []
    },
    {
      "cell_type": "code",
      "metadata": {
        "id": "PiQiMgO8n15X",
        "colab_type": "code",
        "colab": {}
      },
      "source": [
        "#equation mein add karta hoon\n",
        "z=x+y  # new tensor ---- z equation compile and store and wait for resources\n",
        "# CPU,GPU,TPU ----"
      ],
      "execution_count": 0,
      "outputs": []
    },
    {
      "cell_type": "code",
      "metadata": {
        "id": "gSL_Jy9WoQ6v",
        "colab_type": "code",
        "colab": {
          "base_uri": "https://localhost:8080/",
          "height": 34
        },
        "outputId": "1f5c04b6-53f4-42bb-8e5b-ad605c0783f9"
      },
      "source": [
        "type(z)"
      ],
      "execution_count": 10,
      "outputs": [
        {
          "output_type": "execute_result",
          "data": {
            "text/plain": [
              "tensorflow.python.framework.ops.Tensor"
            ]
          },
          "metadata": {
            "tags": []
          },
          "execution_count": 10
        }
      ]
    },
    {
      "cell_type": "code",
      "metadata": {
        "id": "TBeI_7gCoVJD",
        "colab_type": "code",
        "colab": {}
      },
      "source": [
        "#we have another method to add the same \n",
        "z1=tf.add(x,y)"
      ],
      "execution_count": 0,
      "outputs": []
    },
    {
      "cell_type": "code",
      "metadata": {
        "id": "adT3xGCOojfu",
        "colab_type": "code",
        "colab": {}
      },
      "source": [
        "# now time for assigning resources to our equation\n",
        "sess=tf.Session() # connect CPU,GPU,TPU"
      ],
      "execution_count": 0,
      "outputs": []
    },
    {
      "cell_type": "code",
      "metadata": {
        "id": "zTnknPqp0EWV",
        "colab_type": "code",
        "colab": {}
      },
      "source": [
        "# now we can run our equation\n",
        "output=sess.run(z)"
      ],
      "execution_count": 0,
      "outputs": []
    },
    {
      "cell_type": "code",
      "metadata": {
        "id": "-9LCkSIE0YMZ",
        "colab_type": "code",
        "colab": {
          "base_uri": "https://localhost:8080/",
          "height": 34
        },
        "outputId": "7fcc99ee-560d-4834-f5c4-ec6c01897a93"
      },
      "source": [
        "output"
      ],
      "execution_count": 15,
      "outputs": [
        {
          "output_type": "execute_result",
          "data": {
            "text/plain": [
              "50"
            ]
          },
          "metadata": {
            "tags": []
          },
          "execution_count": 15
        }
      ]
    },
    {
      "cell_type": "code",
      "metadata": {
        "id": "FdIbd8TG0gXO",
        "colab_type": "code",
        "colab": {}
      },
      "source": [
        "#closing session\n",
        "sess.close()"
      ],
      "execution_count": 0,
      "outputs": []
    },
    {
      "cell_type": "code",
      "metadata": {
        "id": "E4h3814Y0lPq",
        "colab_type": "code",
        "colab": {}
      },
      "source": [
        "# we can perform same task in another way where we dont have to close session\n",
        "with tf.Session() as sess:\n",
        "  output1=sess.run(z)\n",
        "  tf.summary.FileWriter(graph)"
      ],
      "execution_count": 0,
      "outputs": []
    },
    {
      "cell_type": "code",
      "metadata": {
        "id": "3Y0OR3xs02Ft",
        "colab_type": "code",
        "colab": {
          "base_uri": "https://localhost:8080/",
          "height": 34
        },
        "outputId": "edab6bf0-8927-4613-d926-ff9c064ccb89"
      },
      "source": [
        "output1"
      ],
      "execution_count": 18,
      "outputs": [
        {
          "output_type": "execute_result",
          "data": {
            "text/plain": [
              "50"
            ]
          },
          "metadata": {
            "tags": []
          },
          "execution_count": 18
        }
      ]
    },
    {
      "cell_type": "code",
      "metadata": {
        "id": "9t_1ocVC04ml",
        "colab_type": "code",
        "colab": {}
      },
      "source": [
        ""
      ],
      "execution_count": 0,
      "outputs": []
    }
  ]
}